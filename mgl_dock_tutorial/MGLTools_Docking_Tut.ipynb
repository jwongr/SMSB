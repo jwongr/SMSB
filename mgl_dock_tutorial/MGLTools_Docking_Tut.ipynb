{
 "cells": [
  {
   "cell_type": "markdown",
   "id": "e03ef0e6-bd32-4dd2-bcaf-f4a8e4fedffb",
   "metadata": {},
   "source": [
    "# Docking con MGL Tools"
   ]
  },
  {
   "cell_type": "markdown",
   "id": "6c015b3e-8f1d-442e-bd01-c10d62696b12",
   "metadata": {},
   "source": [
    "En nuestro directorio de trabajo, solamente necesitamos tener el archivo de nuestro ligando ya sea en *.pdb* o *.mol2* y el archivo de nuestro receptor en *.pdb*  \n",
    "No importa si el receptor tiene ausencia de hidrógenos o presencia de agua. Todo eso se arreglará más adelante"
   ]
  },
  {
   "cell_type": "code",
   "execution_count": 3,
   "id": "ec9c763d-cff5-42c5-9067-ed6a31cec2d2",
   "metadata": {},
   "outputs": [
    {
     "name": "stdout",
     "output_type": "stream",
     "text": [
      "ATP.mol2  prot.pdb\n"
     ]
    }
   ],
   "source": [
    "ls *mol2 *pdb"
   ]
  },
  {
   "cell_type": "markdown",
   "id": "5ad9cdfa-7a25-48d7-8a74-65ccf5e9bad3",
   "metadata": {},
   "source": [
    "Comenzaremos activando el ambiente *ad4* y abriendo AutoDock Tools usando el comando *adt*  \n",
    "![adtUI](nbimages/adtUI.png)"
   ]
  },
  {
   "cell_type": "markdown",
   "id": "dbf085c1-0d41-400c-b5ea-25b5206d800a",
   "metadata": {},
   "source": [
    "----\n",
    "## Preparación de moléculas"
   ]
  },
  {
   "cell_type": "markdown",
   "id": "080bf0eb-3748-4df9-b1a9-600991079a0e",
   "metadata": {},
   "source": [
    "### Preparación de receptor\n",
    "En la esquina superior izquierda, haremos clic en *File* > *Read Molecule* y abrimos el pdb de nuestro receptor  \n",
    "En mi caso, mi receptor no tiene hidrógeno.  \n",
    "![prot_unprep](nbimages/prot_unprep.png)  \n",
    "Después, vamos a eliminar el agua, añadir hidrógenos, agregar cargas y asignar el campo de fuerza de Autodock 4  \n",
    "- Edit > Delete Waters\n",
    "- Edit > Hydrogens > Add \n",
    "- Edit > Charges > Compute Gasteiger\n",
    "- Edit > Atoms > Assign AD4 type   \n",
    "\n",
    "![prot_edit](nbimages/prot_edit.png)  \n",
    "\n",
    "> De forma visible solo veremos cambios al quitar el agua (si es que había) y al agregar hidrógenos\n",
    "\n",
    "Ahora, vamos a guardar nuestro receptor preparado como pdbqt usando *File* > *Save* > *Write PDBQT*  \n",
    "Antes de proceder, será importante limpiar el espacio de trabajo eliminando todas las moléculas . Usaremos *Edit* > *Delete* > *Delete All Molecules*"
   ]
  },
  {
   "cell_type": "markdown",
   "id": "2584dcec-f4c6-4a06-9ab0-681dfbb52f22",
   "metadata": {},
   "source": [
    "### Preparación de ligando"
   ]
  },
  {
   "cell_type": "markdown",
   "id": "ff168147-f91c-477c-bf87-e43d182d500c",
   "metadata": {},
   "source": [
    "Desde el menú cafe que dice ADT 4.2, haremos clic en *Ligand > Input > Open* y seleccionaremos el *.pdb* o *.mol2* de nuestro ligando.   \n",
    "Hay que tener cuidado porque el programa al principio solamente busca archivos *.pdbqt*  \n",
    "El programa identificará automaticamente los rotámeros y hará merge de los hidrógenos no polares  \n",
    "![prepare_ligand](nbimages/prepare_ligand.png)  \n",
    "Similar al receptor, vamos a eliminar el agua, agregar cargas y asignar el campo de fuerza de Autodock 4 (los hidrógenos se hicieron de forma automática) \n",
    "- Edit > Delete Waters\n",
    "- Edit > Charges > Compute Gasteiger\n",
    "- Edit > Atoms > Assign AD4 type   \n",
    "\n",
    "Finalizamos en el menú café haciendo *Ligand > Output > Write PDBQT*  \n",
    "Volvemos a limpiar el espacio de trabajo eliminando todas las moléculas\n",
    "---"
   ]
  },
  {
   "cell_type": "markdown",
   "id": "b7a4a883-ddaa-4f42-9ecb-0f51d0808fb0",
   "metadata": {},
   "source": [
    "## Preparación y ejecución de AutoGrid  \n",
    "\n",
    "Para prepara AutoGrid, en el menú cafe abriremos nuestro receptor en la pestaña *Grid > Macromolecule > Open*  \n",
    "![grid](nbimages/grid1.png)  \n",
    "Posterior a esto, vamos a definir las dimensiones de nuestro espacio de búsqueda. *Grid > Grid Box*   \n",
    "Aquí, vamos a posicionar nuestra caja sobre el sitio de interés de la proteína. Recuerda usar los servidores mencionados en el tutorial de Autodock desde la terminal  \n",
    "Al terminar de posicionar la caja, en la ventana abierta haremos clic en *File > Close saving current*  \n",
    "![grid](nbimages/grid2.png)  \n",
    "Después, vamos a *Grid > Output > Save GPF* para guardar nuestro archivo de configuración de AutoGrid  \n",
    "Este archivo de configuración lo podemos ver en un editor de texto o yendo *Grid > Edit GPF*  \n",
    "![gpf](nbimages/gpf.png)  \n",
    "Para ejecutar Autogrid, iremos a  \n",
    "*Run > Run Autogrid*  \n",
    "Damos clic en Browse para el campo parameter filename, seleccionamos nuestro archivo *.gpf* y clic en Launch,  \n",
    "Posterior a esto, hay que esperar a que termine de correr Autogrid y luego volvemos a limpiar el espacio de trabajo\n",
    "---"
   ]
  },
  {
   "cell_type": "markdown",
   "id": "c296a49f-2694-413e-b701-be6407323ac6",
   "metadata": {},
   "source": [
    "## Preparación y ejecución de Autodock 4.2  \n",
    "Para empezar a prepara el docking, en el menú café iremos *Docking > Macromolecule > Set Rigid Filename* y escogeremos al archivo de nuestro receptor.  \n",
    "En este paso no se verá ningún cambio en el visualizador.\n",
    "Luego, se selecciona el ligando yendo a *Docking > Ligand > Open* se selecciona el pdbqt del ligando  \n",
    "En la ventana que se abre, verificar la información del ligando (tipos de átomos y rotámeros)   \n",
    "![ligand_info](nbimages/ligand_info.png)"
   ]
  },
  {
   "cell_type": "markdown",
   "id": "028610fa-b55d-4a73-9450-39ec180dcadd",
   "metadata": {},
   "source": [
    "Posteriormente, toca determinar los parámetros del algoritmo, como trabajaremos con el genético haremos:  \n",
    "*Docking > Search Parameters > Genetic Algorithm* y después de revisar los parámetros damos en aceptar  \n",
    "![ga](nbimages/ga.png)  \n",
    "Similarmente, haremos los siguientes pasos:  \n",
    "*Docking > Docking Parameters > Accept*  \n",
    "Seguido de esto, generaremos un archivo de configuración de Autodock\n",
    "*Docking > Output > Lamarckian GA* y guardamos el archivo .dpf\n",
    "Tenemos la opción de distintos algoritmos \n",
    "- Lamarckian GA\n",
    "- Genetic Algorithm\n",
    "- Simulated Annealing\n",
    "- Local Search  \n",
    "\n",
    "De manera similar a Autogrid, podemos revisar el archivo de configuración en un editor de texto o yendo *Docking > Edit DPF*  \n",
    "![dpf](nbimages/dpf.png)  \n",
    "## Finalmente, para ejecutar Autodock!!!   \n",
    "*Run > Run Autodock*  \n",
    "Damos clic en Browse para el campo parameter filename, seleccionamos nuestro archivo *.dpf* y clic en Launch  \n",
    "Después de esto solo falta esperar que termine nuestra simulación, para el análisis, revisa el [archivo que subí a classroom](https://drive.google.com/file/d/1_6-Ap8TSqYI9RIrwe2ZyVneoixg8C_dn/view?usp=classroom_web&authuser=1)"
   ]
  }
 ],
 "metadata": {
  "kernelspec": {
   "display_name": "Python 3 (ipykernel)",
   "language": "python",
   "name": "python3"
  },
  "language_info": {
   "codemirror_mode": {
    "name": "ipython",
    "version": 3
   },
   "file_extension": ".py",
   "mimetype": "text/x-python",
   "name": "python",
   "nbconvert_exporter": "python",
   "pygments_lexer": "ipython3",
   "version": "3.9.7"
  }
 },
 "nbformat": 4,
 "nbformat_minor": 5
}
