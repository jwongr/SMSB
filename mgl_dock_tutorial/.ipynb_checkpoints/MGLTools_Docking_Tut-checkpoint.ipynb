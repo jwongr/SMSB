{
 "cells": [
  {
   "cell_type": "markdown",
   "id": "e03ef0e6-bd32-4dd2-bcaf-f4a8e4fedffb",
   "metadata": {},
   "source": [
    "# Docking con MGL Tools"
   ]
  },
  {
   "cell_type": "markdown",
   "id": "6c015b3e-8f1d-442e-bd01-c10d62696b12",
   "metadata": {},
   "source": [
    "En nuestro directorio de trabajo, solamente necesitamos tener el archivo de nuestro ligando ya sea en *.pdb* o *.mol2* y el archivo de nuestro receptor en *.pdb*  \n",
    "No importa si el receptor tiene ausencia de hidrógenos o presencia de agua. Todo eso se arreglará más adelante"
   ]
  },
  {
   "cell_type": "code",
   "execution_count": 3,
   "id": "ec9c763d-cff5-42c5-9067-ed6a31cec2d2",
   "metadata": {},
   "outputs": [
    {
     "name": "stdout",
     "output_type": "stream",
     "text": [
      "ATP.mol2  prot.pdb\n"
     ]
    }
   ],
   "source": [
    "ls *mol2 *pdb"
   ]
  },
  {
   "cell_type": "markdown",
   "id": "5ad9cdfa-7a25-48d7-8a74-65ccf5e9bad3",
   "metadata": {},
   "source": [
    "Comenzaremos activando el ambiente *ad4* y abriendo AutoDock Tools usando el comando *adt*  \n",
    "![adtUI](nbimages/adtUI.png)"
   ]
  },
  {
   "cell_type": "markdown",
   "id": "dbf085c1-0d41-400c-b5ea-25b5206d800a",
   "metadata": {},
   "source": [
    "## Preparación de moléculas"
   ]
  },
  {
   "cell_type": "markdown",
   "id": "080bf0eb-3748-4df9-b1a9-600991079a0e",
   "metadata": {},
   "source": [
    "### Preparación de receptor\n",
    "En la esquina superior izquierda, haremos clic en *File* > *Read Molecule* y abrimos el pdb de nuestro receptor  \n",
    "En mi caso, mi receptor no tiene hidrógeno.  \n",
    "![prot_unprep](nbimages/prot_unprep.png)"
   ]
  }
 ],
 "metadata": {
  "kernelspec": {
   "display_name": "Python 3 (ipykernel)",
   "language": "python",
   "name": "python3"
  },
  "language_info": {
   "codemirror_mode": {
    "name": "ipython",
    "version": 3
   },
   "file_extension": ".py",
   "mimetype": "text/x-python",
   "name": "python",
   "nbconvert_exporter": "python",
   "pygments_lexer": "ipython3",
   "version": "3.9.7"
  }
 },
 "nbformat": 4,
 "nbformat_minor": 5
}
