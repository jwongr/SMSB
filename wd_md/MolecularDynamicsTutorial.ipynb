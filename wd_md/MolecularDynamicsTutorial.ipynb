{
 "cells": [
  {
   "cell_type": "markdown",
   "id": "07f7b183-2d30-4982-ab1c-b50cf7281ba0",
   "metadata": {},
   "source": [
    "# Preparación de archivos para dinámica molecular con NAMD: PSF y PDB"
   ]
  },
  {
   "cell_type": "markdown",
   "id": "c070375d-e6b3-4955-8045-33e90a5a36b5",
   "metadata": {
    "tags": []
   },
   "source": [
    "### Primeramente, es importante que te familiarices con los archivos *.psf , .pdb* y los archivos de topología y parámetros de CHARMM \n",
    "- [.pdb](https://www.ks.uiuc.edu/Training/Tutorials/namd/namd-tutorial-unix-html/node22.html)\n",
    "- [.psf](https://www.ks.uiuc.edu/Training/Tutorials/namd/namd-tutorial-unix-html/node23.html)\n",
    "- [Topology](https://www.ks.uiuc.edu/Training/Tutorials/namd/namd-tutorial-html/node24.html)\n",
    "- [Parameters](https://www.ks.uiuc.edu/Training/Tutorials/namd/namd-tutorial-html/node25.html)\n",
    "  \n",
    "### Para ejecutar dinámica molecular con NAMD, es necesario tener cuatro archivos con distinta información:\n",
    "- Coordenadas de cada átomo del sistema\n",
    "- Cargas, tipos de átomo y la estructura del sistema (enlaces, ángulos, diedros, etc.)\n",
    "- Parámetros para evaluar la energía potencial del sistema\n",
    "- Las \"reglas\" que va a seguir nuestra simulación  \n"
   ]
  },
  {
   "cell_type": "markdown",
   "id": "b3ac61a3-6c80-4eba-a04d-cb19b8acd64a",
   "metadata": {},
   "source": [
    "> Puedes identificar que tipo de archivo es cada uno de estos?"
   ]
  },
  {
   "cell_type": "markdown",
   "id": "33b28532-a265-4c69-bf77-384032094cc7",
   "metadata": {},
   "source": [
    "---"
   ]
  },
  {
   "cell_type": "markdown",
   "id": "bba45284-9a7e-48d8-a873-f11e132a837c",
   "metadata": {},
   "source": [
    "## Parte 1: Preparación de archivos y obtención de estados de protonación"
   ]
  },
  {
   "cell_type": "markdown",
   "id": "b2949438-f616-4141-b5ef-07a906146dd1",
   "metadata": {},
   "source": [
    "En esta parte, vamos a generar el archivo *.psf* a partir de un archivo de topología de CHARMM y un *.pdb*  \n",
    "Es importante mencionar que de paso, también solvataremos y vamos a agregar iones al sistema  \n",
    "> Por qué haremos esto?\n"
   ]
  },
  {
   "cell_type": "markdown",
   "id": "1ce5fa1d-79b0-470b-b6ae-94b7f5b95e6b",
   "metadata": {},
   "source": [
    "Primero, en nuestro directorio de trabajo vamos a crear las siguientes 5 carpetas:"
   ]
  },
  {
   "cell_type": "code",
   "execution_count": null,
   "id": "d2b10b65-be62-4def-be3b-585c34b5edd4",
   "metadata": {},
   "outputs": [],
   "source": [
    "mkdir 0_prep 1_min 2_term 3_eq 4_prod "
   ]
  },
  {
   "cell_type": "markdown",
   "id": "28fb8860-f456-4ab7-9346-4cae2853a11e",
   "metadata": {},
   "source": [
    "Además, en el directorio base vamos a agregar el siguiente archivo ya descomprimido:  \n",
    "- [CHARMM Force Field Files](https://www.charmm.org/archive/charmm/resources/charmm-force-fields/download.php?filename=CHARMM_ff_params_files/toppar_c36_jul19.tgz)  "
   ]
  },
  {
   "cell_type": "markdown",
   "id": "b2a720ff-1488-4616-943b-dd1f6926dda0",
   "metadata": {},
   "source": [
    "Debe quedar una carpeta llamada toppar"
   ]
  },
  {
   "cell_type": "code",
   "execution_count": 5,
   "id": "832dee5a-1daf-4d64-87bc-b662b4f1024a",
   "metadata": {},
   "outputs": [
    {
     "name": "stdout",
     "output_type": "stream",
     "text": [
      "total 36\n",
      "drwxrwxr-x  2 wong wong 4096 mar 16 22:10 \u001b[0m\u001b[01;34m0_prep\u001b[0m/\n",
      "drwxrwxr-x  2 wong wong 4096 mar 16 22:10 \u001b[01;34m1_min\u001b[0m/\n",
      "drwxrwxr-x  2 wong wong 4096 mar 16 22:10 \u001b[01;34m2_term\u001b[0m/\n",
      "drwxrwxr-x  2 wong wong 4096 mar 16 22:10 \u001b[01;34m3_eq\u001b[0m/\n",
      "drwxrwxr-x  2 wong wong 4096 mar 16 22:10 \u001b[01;34m4_prod\u001b[0m/\n",
      "-rw-rw-r--  1 wong wong 4504 mar 16 22:15 MolecularDynamicsTutorial.ipynb\n",
      "drwxrwxr-x  2 wong wong 4096 mar 16 21:38 \u001b[01;34mnbimages\u001b[0m/\n",
      "drwxr-xr-x 14 wong wong 4096 mar 16 22:17 \u001b[01;34mtoppar\u001b[0m/\n"
     ]
    }
   ],
   "source": [
    "ls -l"
   ]
  },
  {
   "cell_type": "markdown",
   "id": "a5d5d3cc-8854-42dd-8e86-390ca84a5fb2",
   "metadata": {},
   "source": [
    "> Ignorar la carpeta nbimages y el archivo .ipynb"
   ]
  },
  {
   "cell_type": "markdown",
   "id": "17ab72a6-e282-4858-b5e7-5d3a2ca85d3e",
   "metadata": {},
   "source": [
    "Nos movemos a la carpeta 0_prep\n",
    "```\n",
    "cd 0_prep\n",
    "```"
   ]
  },
  {
   "cell_type": "markdown",
   "id": "0416153a-6f2f-471c-9cb4-ae413686b017",
   "metadata": {},
   "source": [
    "Dentro de esta carpeta, vamos a poner los siguientes archivos:\n",
    "- [PDB de BSA](https://files.rcsb.org/download/4F1S.pdb)\n",
    "- Script de Bash para imprimir los residuos a modificar su estado protonación [(ph_cleaning.sh)](https://classroom.google.com/c/NjU0NDM0ODg1OTk3/p/NjY5NTYyNTUwNjUx/details)\n",
    "- Script de Python para separar los residuos que se deben protonar y los que se deben desprotonar [(patching_info.py)](https://classroom.google.com/c/NjU0NDM0ODg1OTk3/p/NjY5NTYyNTUwNjUx/details)"
   ]
  },
  {
   "cell_type": "markdown",
   "id": "b4f7fcf3-eb33-4a81-8529-90cdbf31a03a",
   "metadata": {},
   "source": [
    "Renombraremos el pdb a BSA_unprep.pdb"
   ]
  },
  {
   "cell_type": "code",
   "execution_count": 8,
   "id": "f6eee2db-2d99-454a-8aff-59101d416437",
   "metadata": {},
   "outputs": [],
   "source": [
    "mv 4f5s.pdb BSA_unprep.pdb"
   ]
  },
  {
   "cell_type": "markdown",
   "id": "0f4ab124-a144-463e-96ad-2ba2eb7eb4a1",
   "metadata": {},
   "source": [
    "Procederemos a revisar los residuos que será necesario ajustar su estado de protonación ejecutando nuestro script  \n",
    "```\n",
    "bash ph_cleaning.sh\n",
    "```"
   ]
  },
  {
   "cell_type": "markdown",
   "id": "d88f3fb8-3d1d-4c09-888a-513c97defda2",
   "metadata": {},
   "source": [
    "> Verifica si tienes propka instalado utilizando: pip install propka"
   ]
  },
  {
   "cell_type": "markdown",
   "id": "f7a0f81f-4328-4ba3-88c0-b33d71de68b4",
   "metadata": {},
   "source": [
    "> Es posible que necesites activar el ambiente mds"
   ]
  },
  {
   "cell_type": "markdown",
   "id": "3d84f3e8-ee40-41f2-9a24-245d2e08b7ca",
   "metadata": {},
   "source": [
    "La salida debería verse algo así:"
   ]
  },
  {
   "cell_type": "markdown",
   "id": "9d180bb5-50ce-48e6-8c3c-688c43574d5f",
   "metadata": {},
   "source": [
    "**We need to unprotonate:  \n",
    "    Resname  Resid Chain   pka  model_pka  \n",
    "363     LYS    221     A  6.61       10.5  \n",
    "432     LYS    294     B  6.33       10.5  \n",
    "We need to protonate:  \n",
    "    Resname  Resid Chain   pka  model_pka  \n",
    "163     GLU    251     B  7.36        4.5  \n",
    "203     HIS     67     A  7.79        6.5  \n",
    "207     HIS    246     A  8.20        6.5  \n",
    "208     HIS    287     A  7.62        6.5  \n",
    "220     HIS     67     B  7.78        6.5  \n",
    "224     HIS    246     B  8.72        6.5  \n",
    "225     HIS    287     B  7.17        6.5  \n",
    "227     HIS    366     B  7.19        6.5**"
   ]
  },
  {
   "cell_type": "markdown",
   "id": "54a0228e-ae09-4cca-a7ac-7b8c02205f56",
   "metadata": {},
   "source": [
    "Es importante que guardes esta información, en especial: *Resname, Resid  y Chain*"
   ]
  },
  {
   "cell_type": "markdown",
   "id": "25b29fbc-4a68-4390-ba3f-f9b61fb53292",
   "metadata": {},
   "source": [
    "## Parte 2: Creación de archivo .psf en VMD"
   ]
  },
  {
   "cell_type": "markdown",
   "id": "72fe816c-bffc-4bd1-b381-e9e8986ca7d9",
   "metadata": {},
   "source": [
    "Vamos a abrir el archivo *BSA_unprep.pdb* en VMD"
   ]
  },
  {
   "cell_type": "markdown",
   "id": "876b40e6-ad8c-4ad9-8bce-60632191b7b8",
   "metadata": {},
   "source": [
    "```\n",
    "vmd BSA_unprep.pdb\n",
    "```"
   ]
  },
  {
   "cell_type": "markdown",
   "id": "9c74f215-7b1d-4697-8d6b-986ca58915b1",
   "metadata": {},
   "source": [
    "Aquí, me gustaría que se dieran el tiempo de observar la proteína de forma general y de cerca, las siguientes cosas\n",
    "- La presencia de hidrógenos\n",
    "- Los residuos que el script de protonación nos dijo que debemos modificar"
   ]
  },
  {
   "cell_type": "markdown",
   "id": "b45c49ca-68bb-4394-b703-1c6eb4f70cf0",
   "metadata": {},
   "source": [
    "Para modificar los estados de protonación de GLU y LYS, usaremos parches pero para protonar las HIS, no existe un parche.  \n",
    "Sin embargo, existe una entrada como residuo, entonces cambiaremos el nombre de las HIS a HSP"
   ]
  },
  {
   "cell_type": "markdown",
   "id": "196f8d83-768f-41c3-857b-a96513660670",
   "metadata": {},
   "source": [
    "En la terminal de VMD pondremos los siguientes comandos línea por línea"
   ]
  },
  {
   "cell_type": "markdown",
   "id": "d0a47e52-a545-4a64-9969-fbc5dc350c9b",
   "metadata": {},
   "source": [
    "```\n",
    "set hsps [atomselect top \"(chain A and resid 67 246 287) or (chain B and resid 67 246 287 366)\"]\n",
    "$hsps set resname HSP\n",
    "```"
   ]
  },
  {
   "cell_type": "markdown",
   "id": "d4b39fc1-cf1c-4524-9522-88d6265ee6a5",
   "metadata": {},
   "source": [
    "Seguido esto, en la ventana VMD Main, nos iremos a *Extensions > Modeling > Automatic PSF Builder*"
   ]
  },
  {
   "cell_type": "markdown",
   "id": "f5aaf2fe-6224-49cf-8248-1812eb853e21",
   "metadata": {},
   "source": [
    "![autopsf](nbimages/automaticpsfbuilder.png)"
   ]
  },
  {
   "cell_type": "markdown",
   "id": "20454dfd-108f-4d93-bb26-ff54499f5f77",
   "metadata": {},
   "source": [
    "A continuación, vemos la pantalla del plugin AutoPSF. En el cuadro azul, hay que verificar que este nuestra molécula  \n",
    "con la que abrimos el programa y a la cual le cambiamos el nombre de las Histidinas, muchas veces cuando tenemos un error  \n",
    "y queremos volver a empezar el programa selecciona otro archivo temporal y los errores se van en cascada  \n",
    "En el cuadro naranja, tenemos el nombre que tendrán los archivos de salida, a mi me gusta usar el sufijo: *_unsolvate*\n",
    "  \n",
    "El cuadro de Topology Files, tiene cargado archivos de parámetros de CHARMM que se encuentran comúnmente, son versiones más viejas  \n",
    "de lo que tenemos en nuestra carpeta toppar. Si quisieramos agregar otros archivos, utilizamos la opción Add. Por el momento, solo  \n",
    "necesitamos utilizar la opción *Load input files*"
   ]
  },
  {
   "cell_type": "markdown",
   "id": "5747d88d-268e-4afb-b41f-e486322660e3",
   "metadata": {},
   "source": [
    "![psf_1](nbimages/psf_1.png)"
   ]
  },
  {
   "cell_type": "markdown",
   "id": "279bc446-bd05-4f13-8e17-245e1f1bcb76",
   "metadata": {},
   "source": [
    "En el paso 2 haremos la selección para lo cual nos interesa generar el archivo *.psf*. En este caso vamos a seleccionar *protein*  \n",
    "Este paso sirve para \"limpiar\" nuestro sistema de moléculas no deseadas. Finalizamos con la opción:  \n",
    "*Guess and split chains using current selections*"
   ]
  },
  {
   "cell_type": "markdown",
   "id": "eca34da1-b092-4c94-a619-62c87e389326",
   "metadata": {},
   "source": [
    "![psf_1](nbimages/psf_2.png)"
   ]
  },
  {
   "cell_type": "markdown",
   "id": "dc93716e-c045-40e7-9534-55612f609dde",
   "metadata": {},
   "source": [
    "En la siguiente sección hay que verificar si el programa identifico de forma correcta las cadenas y segmentos del sistema  \n",
    "En este caso tenemos correctamente las dos cadenas de la proteína. Si seleccionamos las cadenas que se ven en el cuadro azul  \n",
    "podemos ver cuales son en el visualizador de VMD. Para agregar, editar o eliminar cadenas tenemos las opciones del lado derecho.  \n",
    "Para proceder, usamos: *Create Chains*"
   ]
  },
  {
   "cell_type": "markdown",
   "id": "13fa9de1-02a6-4277-b8f9-2c6d53a279d6",
   "metadata": {},
   "source": [
    "![psf_1](nbimages/psf_3.png)"
   ]
  },
  {
   "cell_type": "markdown",
   "id": "986e67ab-c350-4cbc-850e-96ae59a5ea44",
   "metadata": {},
   "source": [
    "En el paso 4, vamos a asignar Parches a los residuos. Estas son modificaciones que se hacen a algunos residuos para cumplir con ciertas  \n",
    "propiedades, como enlaces de azufre o estados de protonación. En los archivos de Topología podemos encontrar los parches disponibles.  \n",
    "AutoPSF automaticamente asigna el parche DISU de enlaces de Azufre  a todos los pares de azufre con una distancia menor a 3 Angstroms.  \n",
    "Iremos a la opción Add Patch para agregar los parches de los estados de protonación que modificaremos"
   ]
  },
  {
   "cell_type": "markdown",
   "id": "c2b25a02-82f7-4512-9a29-023d622fc430",
   "metadata": {},
   "source": [
    "![psf_1](nbimages/psf_4.png)"
   ]
  },
  {
   "cell_type": "markdown",
   "id": "aebb8c9b-f94c-4d71-9e6e-7cfddd9e8322",
   "metadata": {},
   "source": [
    "Se abre este menú, en donde llenaremos los campos correspondientes para generar los parches."
   ]
  },
  {
   "cell_type": "markdown",
   "id": "c938227b-a2e3-41cd-9ba4-18a0b65c995f",
   "metadata": {},
   "source": [
    "![patch](nbimages/patch.png)"
   ]
  },
  {
   "cell_type": "markdown",
   "id": "71fae5d9-3be6-4321-b55a-61f99a4f7702",
   "metadata": {},
   "source": [
    "En nuestro caso, los parches que usaremos son:  \n",
    "- LSN AP1:221\n",
    "- LSN BP1:294\n",
    "- GLUP BP1:251"
   ]
  },
  {
   "cell_type": "markdown",
   "id": "df63922c-4607-44fb-83c0-ec1915085e7d",
   "metadata": {},
   "source": [
    "Después de agregar los parches, verificamos que aparezcan en AutoPSF.  \n",
    "Para finalizar, usamos *Apply patches and finish PSF/PDB*"
   ]
  },
  {
   "cell_type": "markdown",
   "id": "e7cdbef3-a541-45bd-bc6b-b0623283470a",
   "metadata": {},
   "source": [
    "![patch](nbimages/psf_5.png)"
   ]
  },
  {
   "cell_type": "markdown",
   "id": "c76db004-7157-44da-91dc-cb705dce29b5",
   "metadata": {},
   "source": [
    "Si todo sale bien, nos aparecerá esta ventana, hay que ver bien cuales son los nombres de los archivos de salida.  \n",
    "![psf_out](nbimages/psf_results.png)"
   ]
  },
  {
   "cell_type": "markdown",
   "id": "0675bec2-ff94-42e9-90a3-b3c6ca47811f",
   "metadata": {},
   "source": [
    "## Parte 3: Solvatación e ionización del sistema"
   ]
  },
  {
   "cell_type": "markdown",
   "id": "f992d0c1-0499-4bfb-9fb0-c86e13ef6fdb",
   "metadata": {},
   "source": [
    "Para mantener un orden, a mi me gusta cerrar VMD y cambiar el nombre de estos archivos:\n",
    "- BSA_unsolvate_formatted_autopsf.pdb ---> BSA_unsolvate.pdb\n",
    "- BSA_unsolvate_formatted_autopsf.psf ---> BSA_unsolvate.psf"
   ]
  },
  {
   "cell_type": "markdown",
   "id": "b853b677-85ab-4adc-905a-f8b2534f6361",
   "metadata": {},
   "source": [
    "Ahora vamos a abrir los archivos en VMD\n",
    "```\n",
    "vmd BSA_unsolvate.psf BSA_unsolvate.pdb\n",
    "```"
   ]
  },
  {
   "cell_type": "markdown",
   "id": "9448e40d-fa2d-4cc9-91aa-9269639e2493",
   "metadata": {},
   "source": [
    "> Te invito a que veas que pasa si solamente abres el archivo psf o si los abres en orden inverso. Si no abres el archivo .psf no se puede hacer lo siguiente"
   ]
  },
  {
   "cell_type": "markdown",
   "id": "e4729a86-804a-4a64-ace0-4e54d59b137d",
   "metadata": {},
   "source": [
    "> Observa que ahora si tenemos protones en el sistema"
   ]
  },
  {
   "cell_type": "markdown",
   "id": "8406ab5a-2938-4f19-850b-a1ccf1ece133",
   "metadata": {},
   "source": [
    "Ahora, tenemos que terminar de modelar nuestro sistema en un ambiente fisiológico. Para esto, tenemos que solvatar y agregar iones.  \n",
    "Contrario a la clase, ahora lo haremos en la terminal de VMD. Para solvatar:  \n",
    "```\n",
    "package require solvate\n",
    "solvate \n",
    "solvate BSA_unsolvate.psf BSA_unsolvate.pdb -o BSA_solvate -rotate -t 15\n",
    "```"
   ]
  },
  {
   "cell_type": "markdown",
   "id": "c3eebfd1-530c-45c4-85da-ec878a1f914a",
   "metadata": {},
   "source": [
    "Vamos a limpiar nuestro espacio de trabajo de VMD para observar nuestra proteína solvatada. Dejaremos solamente la que tiene el sufijo _solvate  \n",
    "Para esto, vamos a dar clic derecho y luego Delete Molecule  \n",
    "![del_molecule](nbimages/delete_molecule.png)"
   ]
  },
  {
   "cell_type": "markdown",
   "id": "5243d57c-c94c-4214-8e4c-cc730859a500",
   "metadata": {},
   "source": [
    "Para ionizar, seguiremos un método similar a la solvatación. \n",
    "```\n",
    "package require autoionize\n",
    "autoionize\n",
    "autoionize -psf BSA_solvate.psf -pdb BSA_solvate.pdb -sc 0.15 -o ../BSA_wb\n",
    "```"
   ]
  },
  {
   "cell_type": "markdown",
   "id": "ce23a454-e164-415e-8c0a-5fe086e79601",
   "metadata": {},
   "source": [
    "> En este caso puse en la salida ../ para guardar los archivos finales del sistema en nuestro directorio padre"
   ]
  },
  {
   "cell_type": "markdown",
   "id": "734b997c-053c-4bf3-a845-72d0cf5ee2e2",
   "metadata": {},
   "source": [
    "Ahora eliminamos la molecula sin iones para visualizar nuestro sistema. Las selecciones que puedes usar en Graphical Representations:\n",
    "- protein\n",
    "- water\n",
    "- ions"
   ]
  },
  {
   "cell_type": "markdown",
   "id": "d6ee04c2-9745-4374-a933-ac70fa4c0299",
   "metadata": {},
   "source": [
    "![system](nbimages/system.png)"
   ]
  },
  {
   "cell_type": "markdown",
   "id": "b3247b61-52e5-4be0-84bc-8da1a4080bef",
   "metadata": {},
   "source": [
    "## Parte 4: Obtención de las dimensiones del sistema"
   ]
  },
  {
   "cell_type": "markdown",
   "id": "455098ae-d510-4026-beac-c2759919fbda",
   "metadata": {},
   "source": [
    "Antes de finalizar, para poder ejecutar el paso de minimización debemos tener información sobre las dimensiones del sistema.  \n",
    "Necesitamos el centro y el tamaño de la caja, para esto usaremos los siguientes comandos en la terminal de VMD"
   ]
  },
  {
   "cell_type": "markdown",
   "id": "9375dee3-d492-47c2-8dae-1be7b64ece3f",
   "metadata": {},
   "source": [
    "### Centro "
   ]
  },
  {
   "cell_type": "markdown",
   "id": "2e655961-c1ee-45c7-84ed-1748e589033e",
   "metadata": {},
   "source": [
    "```\n",
    "set all [atomselect top all]\n",
    "measure center $all\n",
    "```"
   ]
  },
  {
   "cell_type": "markdown",
   "id": "7a09911a-6b5c-48c3-a80c-6074d8e18d94",
   "metadata": {},
   "source": [
    "### Dimensiones"
   ]
  },
  {
   "cell_type": "markdown",
   "id": "23b1ef21-e998-4d0a-9beb-daa00d7c5d0d",
   "metadata": {},
   "source": [
    "```\n",
    "pbc get\n",
    "```"
   ]
  },
  {
   "cell_type": "markdown",
   "id": "774dbd9e-bdc5-41f4-865b-80283d859f97",
   "metadata": {},
   "source": [
    "### Resultado  \n",
    "En mi caso, obtuve esto:  \n",
    "Centro: -0.17828397452831268 0.15849146246910095 -4.632832050323486  \n",
    "Dimensiones: {95.360001 179.488007 112.685997 90.000000 90.000000 90.000000}  \n",
    "\n",
    "Guarda esta información. El centro lo puedes redondear a dos decimales y las dimensiones a números enteros.  \n",
    "Si te fijas en dimensiones tenemos 6 números, los primeros 3 son los que nos interesan y los otros son los ángulos entre los vectores"
   ]
  }
 ],
 "metadata": {
  "kernelspec": {
   "display_name": "Python 3 (ipykernel)",
   "language": "python",
   "name": "python3"
  },
  "language_info": {
   "codemirror_mode": {
    "name": "ipython",
    "version": 3
   },
   "file_extension": ".py",
   "mimetype": "text/x-python",
   "name": "python",
   "nbconvert_exporter": "python",
   "pygments_lexer": "ipython3",
   "version": "3.9.7"
  }
 },
 "nbformat": 4,
 "nbformat_minor": 5
}
